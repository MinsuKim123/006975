{
  "nbformat": 4,
  "nbformat_minor": 0,
  "metadata": {
    "colab": {
      "name": "Code_6_1.ipynb",
      "provenance": [],
      "authorship_tag": "ABX9TyOvUml4rm0lwzIhzhEDIc2i",
      "include_colab_link": true
    },
    "kernelspec": {
      "name": "python3",
      "display_name": "Python 3"
    }
  },
  "cells": [
    {
      "cell_type": "markdown",
      "metadata": {
        "id": "view-in-github",
        "colab_type": "text"
      },
      "source": [
        "<a href=\"https://colab.research.google.com/github/MinsuKim123/006975/blob/master/Code_6_1.ipynb\" target=\"_parent\"><img src=\"https://colab.research.google.com/assets/colab-badge.svg\" alt=\"Open In Colab\"/></a>"
      ]
    },
    {
      "cell_type": "code",
      "metadata": {
        "colab": {
          "base_uri": "https://localhost:8080/"
        },
        "id": "EGa5ALjHG9mU",
        "outputId": "7cb84712-790b-4d1a-d6fc-9a576a76216c"
      },
      "source": [
        "import numpy as np\n",
        "\n",
        "samples = ['The cat sat on the mat.', 'The dog ate my homework.']\n",
        "\n",
        "token_index = {} \n",
        "\n",
        "for sample in samples:\n",
        "    for word in sample.split(): \n",
        "\n",
        "        if word not in token_index:\n",
        "            token_index[word] = len(token_index) + 1\n",
        "\n",
        "max_length = 10\n",
        "\n",
        "results = np.zeros (shape=(len(samples), \n",
        "                           max_length, \n",
        "                           max(token_index.values())+1))\n",
        "\n",
        "for i, sample in enumerate (samples):\n",
        "    print (i, sample)\n",
        "    for j, word in list (enumerate(sample.split())) [:max_length]:\n",
        "        index = token_index.get(word)\n",
        "        results[i,j,index] = 1\n",
        "        print (i,j, index)\n",
        "\n",
        "\n"
      ],
      "execution_count": 3,
      "outputs": [
        {
          "output_type": "stream",
          "text": [
            "0 The cat sat on the mat.\n",
            "0 0 1\n",
            "0 1 2\n",
            "0 2 3\n",
            "0 3 4\n",
            "0 4 5\n",
            "0 5 6\n",
            "1 The dog ate my homework.\n",
            "1 0 1\n",
            "1 1 7\n",
            "1 2 8\n",
            "1 3 9\n",
            "1 4 10\n"
          ],
          "name": "stdout"
        }
      ]
    },
    {
      "cell_type": "code",
      "metadata": {
        "id": "mwIhBYJwn4U6"
      },
      "source": [
        ""
      ],
      "execution_count": null,
      "outputs": []
    }
  ]
}